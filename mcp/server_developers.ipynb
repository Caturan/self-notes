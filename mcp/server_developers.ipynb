{
 "cells": [
  {
   "cell_type": "markdown",
   "id": "2cf8e7db",
   "metadata": {},
   "source": [
    "# For Server Developers "
   ]
  },
  {
   "cell_type": "markdown",
   "id": "fc9f9d9c",
   "metadata": {},
   "source": [
    "## What we will be building \n",
    "- Many LLMs do not currently have the ability to fetch the forecast and severe weather alerts. Let's use MCP to solve that!\n",
    "- We will build a server that exposes two tools: get-alerts and get-forecast. Then we will connect the server to an MCP host (in this case, Claude for Desktop):"
   ]
  },
  {
   "cell_type": "markdown",
   "id": "98b99b4f",
   "metadata": {},
   "source": [
    "## Core MCP Concepts\n",
    "- MCP servers can provide three main types of capabilities\n",
    "1. Resources: File-like data can be read by clients. (like API responses or file contents)\n",
    "2. Tools: Functions that can be called by the LLM (with user approval)\n",
    "3. Prompts: Pre-written templates that help users accomplish specific tasks. "
   ]
  },
  {
   "cell_type": "markdown",
   "id": "f8d2a3f8",
   "metadata": {},
   "source": [
    "## Set up our enviorenment "
   ]
  },
  {
   "cell_type": "code",
   "execution_count": null,
   "id": "7303a42b",
   "metadata": {},
   "outputs": [],
   "source": [
    "powershell -ExecutionPolicy ByPass -c \"irm https://astral.sh/uv/install.ps1 | iex\""
   ]
  },
  {
   "cell_type": "markdown",
   "id": "d514c7db",
   "metadata": {},
   "source": [
    "- Make sure to restart your terminal afterwards to ensure that the uv commands gets picked up. "
   ]
  },
  {
   "cell_type": "markdown",
   "id": "fee398f7",
   "metadata": {},
   "source": [
    "## \n",
    "- Server created the weather folder. "
   ]
  }
 ],
 "metadata": {
  "kernelspec": {
   "display_name": "Python 3",
   "language": "python",
   "name": "python3"
  },
  "language_info": {
   "name": "python",
   "version": "3.10.9"
  }
 },
 "nbformat": 4,
 "nbformat_minor": 5
}
