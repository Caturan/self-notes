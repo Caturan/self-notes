{
 "cells": [
  {
   "cell_type": "markdown",
   "id": "228e3b49",
   "metadata": {},
   "source": [
    "# Day 7: Coding Positional Embeddings \n",
    "- We discussed what positonal embeddings are and why they are essential in Transformer models. \n",
    "- Today, let's jump into the code and see exactly how they are implemented. \n",
    "- The reference implementation comes from an open-source GPT-style model, I've been experimenting with Tiny Children Stories 30M. \n",
    "- It is designed to generate short children's stories and offers a clean, minimal setup perfect for understanding the internals. "
   ]
  },
  {
   "cell_type": "markdown",
   "id": "b8198c6e",
   "metadata": {},
   "source": [
    "## Quick Recap: Why Transformers Need Positional Embeddings \n",
    "- Transformer models process all tokens in parallel (unlike RNNs), so they don't naturally understand word order. For example: \n",
    "    - \"The cat sat on the mat\" \n",
    "    - \"The mat sat on the cat\" \n",
    "- To a transformer without positional embeddings, those look identical, same tokens, shuffled order, same representations. That is a problem. "
   ]
  },
  {
   "cell_type": "markdown",
   "id": "25417114",
   "metadata": {},
   "source": [
    "## What Are Positional Embeddings? \n",
    "- They are additional vectors that encode the position of each token in the sequence. \n",
    "- These are added to token embeddings so that the model knows what the token is and where it is located. "
   ]
  },
  {
   "cell_type": "markdown",
   "id": "1b347da1",
   "metadata": {},
   "source": [
    "### 1. Model Config "
   ]
  },
  {
   "cell_type": "code",
   "execution_count": null,
   "id": "f6ab06ae",
   "metadata": {},
   "outputs": [],
   "source": [
    "u/dataclass \n",
    "class GPTConfig: \n",
    "    vocab_size: int = 50257 \n",
    "    block_size: int = 1024\n",
    "    n_layer: int = 6 \n",
    "    n_head: int = 8 \n",
    "    n_embd: int = 512 \n",
    "    dropout: float = 0.1 \n",
    "    bias: bool = True"
   ]
  },
  {
   "cell_type": "markdown",
   "id": "c570fa8d",
   "metadata": {},
   "source": [
    "- block_size defines the maximum sequence length and thus the number of positional embeddings needed. "
   ]
  },
  {
   "cell_type": "markdown",
   "id": "62411867",
   "metadata": {},
   "source": [
    "### Defining the Embedding Layers "
   ]
  },
  {
   "cell_type": "code",
   "execution_count": null,
   "id": "afd31600",
   "metadata": {},
   "outputs": [],
   "source": [
    "self.transformer = nn.ModuleDict(dict(\n",
    "    wte=nn.Embedding(config.vocab_size, config.n_embd), # token embeddings \n",
    "    wpe=nn.Embedding(config.block_size, config.n_embd), # positional embeddings \n",
    "    # ...\n",
    "))"
   ]
  },
  {
   "cell_type": "markdown",
   "id": "e1a51cc9",
   "metadata": {},
   "source": [
    "- Both embeddings are of shape (sequence_length, embedding_dim), so they can be added together. "
   ]
  },
  {
   "cell_type": "markdown",
   "id": "9376d8df",
   "metadata": {},
   "source": [
    "### Forward Pass "
   ]
  },
  {
   "cell_type": "code",
   "execution_count": null,
   "id": "75b429b4",
   "metadata": {},
   "outputs": [],
   "source": [
    "pos = torch.arrange(0, t, dtype=torch.long, device=device)\n",
    "tok_emb = self.transformer.wte(idx)\n",
    "pos_emb = self.transformer.wpe(pos)\n",
    "x = self.trasformer.drop(tok_emb + pos_emb)"
   ]
  },
  {
   "cell_type": "markdown",
   "id": "711dde4d",
   "metadata": {},
   "source": [
    "- This does: \n",
    "    - Generate position indices [0, 1, 2,..., t-1]\n",
    "    - Look up token and position embeddings \n",
    "    - Add them \n",
    "    - Apply dropout "
   ]
  },
  {
   "attachments": {
    "image.png": {
     "image/png": "[encoded data removed]"
    }
   },
   "cell_type": "markdown",
   "id": "793b0091",
   "metadata": {},
   "source": [
    "#### Example \n",
    "- Input: \"The cat sat\" \n",
    "- Token IDs: [464, 2368, 3290]\n",
    "- ![image.png](attachment:image.png)\n",
    "- Now the model knowns both the identity and the order of the tokens. "
   ]
  },
  {
   "cell_type": "markdown",
   "id": "1202e82d",
   "metadata": {},
   "source": [
    "#### Now the question is why This Matters\n",
    "- By adding token + position, the model learns: \n",
    "    - Semantics (what the word is)\n",
    "    - Context (where the word is)\n",
    "- This is crucial in generation tasks like storytelling, where position changes meaning. "
   ]
  },
  {
   "cell_type": "markdown",
   "id": "328401de",
   "metadata": {},
   "source": [
    "#### Limitations \n",
    "- Fixed Length: Can't handle sequences longer than block_size. \n",
    "- No relative awarennes: Doesn't know how far two tokens are apart. \n",
    "- Sparse Training: If we never train on long sequences, performance drops. "
   ]
  },
  {
   "cell_type": "markdown",
   "id": "b0099abd",
   "metadata": {},
   "source": [
    "### Alternatives \n",
    "#### Sinusoidal Positional Embeddings "
   ]
  },
  {
   "cell_type": "code",
   "execution_count": 5,
   "id": "dbc14ad8",
   "metadata": {},
   "outputs": [],
   "source": [
    "def get_sinusoidal_embeddings(seq_len, embed_dim): \n",
    "    pos = torch.arange(seq_len).unsqueeze(1)\n",
    "    div_term = torch.exp(torch.arrange(0, embed_dim, 2)) * -(math.log(10000.0) / embed_dim)\n",
    "    pe = torch.zeros(seq_len, embed_dim)\n",
    "    pe[:, 0::2] = torch.sin(pos * div_term)\n",
    "    pe[:, 1::2] = torch.cos(pos * div_term)\n",
    "    return pe \n",
    "# Infinite length\n",
    "# No learned parameters "
   ]
  },
  {
   "cell_type": "markdown",
   "id": "ddca4c63",
   "metadata": {},
   "source": [
    "#### Relative Positional Embeddings \n",
    "- Rather than saying \"this is position 5,\" we tell the model \"this token is 3 positions to the left of that one\"\n",
    "- Great for \n",
    "    - Reasoning \n",
    "    - Long document understanding \n",
    "    - Questions answering "
   ]
  },
  {
   "cell_type": "markdown",
   "id": "5937d89d",
   "metadata": {},
   "source": [
    "### Tips \n",
    "- Don't overextend block_size, it increases memory consumption fast. \n",
    "- Ensure our training data has diverse sequence lengths. \n",
    "- For long inputs, check out RoPE or relative embeddings."
   ]
  },
  {
   "cell_type": "markdown",
   "id": "3c19b65f",
   "metadata": {},
   "source": [
    "# Final Thoughts \n",
    "- Positional embeddings are the quiet workhorses of transformer models.\n",
    "- Just by combining two vectors (token + position), we enable the model to process ordered text meaningfully. \n",
    "- Without this, a model would not know if \"The End\" belongs at the start or the finish of our story. "
   ]
  }
 ],
 "metadata": {
  "kernelspec": {
   "display_name": "Python 3",
   "language": "python",
   "name": "python3"
  },
  "language_info": {
   "codemirror_mode": {
    "name": "ipython",
    "version": 3
   },
   "file_extension": ".py",
   "mimetype": "text/x-python",
   "name": "python",
   "nbconvert_exporter": "python",
   "pygments_lexer": "ipython3",
   "version": "3.10.9"
  }
 },
 "nbformat": 4,
 "nbformat_minor": 5
}
