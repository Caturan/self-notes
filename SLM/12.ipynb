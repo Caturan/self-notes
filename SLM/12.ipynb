{
 "cells": [
  {
   "cell_type": "markdown",
   "id": "2f495d79",
   "metadata": {},
   "source": [
    "# Day 12: Implementin a Simplified Attention Mechanism in Python \n",
    "## What is Attention? \n",
    "- Imagine we are in a room with five people, and we are trying to understand what is going on. \n",
    "- We don't pay equal attention to all five people, we naturally focus more on the person who's talking about something relevant. \n",
    "- That's exactly what attention does for LLMs. When reading a sentence, the model \"pays more attention\" to the words that are important for understanding the context. \n",
    "- Let's break it down with a simple example and real code! "
   ]
  },
  {
   "attachments": {
    "image.png": {
     "image/png": "[encoded data removed]"
    }
   },
   "cell_type": "markdown",
   "id": "57cc2536",
   "metadata": {},
   "source": [
    "### Our Example: \"Cats love cozy windows\" \n",
    "- Each word will be turned into a vector, just a bunch of numbers that represent the meaning of the word. \n",
    "- Here's what out made-up word vectors look like: \n",
    "- ![image.png](attachment:image.png)\n",
    "- Each row is an embedding for a word, just another way of saving, \"this is how the model understands the meaning of the word in numbers\". "
   ]
  },
  {
   "cell_type": "code",
   "execution_count": 3,
   "id": "214d275a",
   "metadata": {},
   "outputs": [],
   "source": [
    "import torch \n",
    "\n",
    "inputs = torch.tensor([\n",
    "    [0.10, 0.20, 0.30],  # Cats     (x¹)\n",
    "    [0.40, 0.50, 0.60],  # love     (x²)\n",
    "    [0.70, 0.80, 0.10],  # cozy     (x³)\n",
    "    [0.90, 0.10, 0.20]   # windows  (x⁴)\n",
    "])"
   ]
  },
  {
   "cell_type": "markdown",
   "id": "0ee788fa",
   "metadata": {},
   "source": [
    "### 1. Calculating Attention Scores (How Similar Are These Words?)\n",
    "- Let's say we want to find out how much attention the word \"love\" (second word) should pay to all the others. \n",
    "- We do that by computing the dot product between the vector for \"love\" and the others. \n",
    "- The higher the score, the more related they are."
   ]
  },
  {
   "cell_type": "code",
   "execution_count": 4,
   "id": "11402828",
   "metadata": {},
   "outputs": [
    {
     "name": "stdout",
     "output_type": "stream",
     "text": [
      "tensor([0.3200, 0.7700, 0.7400, 0.5300])\n"
     ]
    }
   ],
   "source": [
    "query = inputs[1] # Embedding for \"love\"\n",
    "\n",
    "attn_scores = torch.empty(inputs.shape[0])\n",
    "for i, x_i in enumerate(inputs):\n",
    "    attn_scores[i] = torch.dot(query, x_i)\n",
    "\n",
    "print(attn_scores)"
   ]
  },
  {
   "cell_type": "code",
   "execution_count": 5,
   "id": "38f5fe70",
   "metadata": {},
   "outputs": [
    {
     "name": "stdout",
     "output_type": "stream",
     "text": [
      "tensor([0.3200, 0.7700, 0.7400, 0.5300])\n"
     ]
    }
   ],
   "source": [
    "# Or, even faster, do it for all words at once using matrix multiplication: \n",
    "attn_scores_all = inputs @ inputs.T\n",
    "print(attn_scores)"
   ]
  },
  {
   "cell_type": "markdown",
   "id": "b6af1d51",
   "metadata": {},
   "source": [
    "- This gives us a matrix of similarities, each number tells how strongly one word is related to another. "
   ]
  },
  {
   "cell_type": "markdown",
   "id": "7b9b43fc",
   "metadata": {},
   "source": [
    "### 2: Turning Scores into Meaningful Weights (Using Softmax)\n",
    "- Raw scores are hard to interpret. We want to turn them into weights between 0 and 1 that add up to 1 for each word. \n",
    "- This tells us the percentage of focus each word should get. \n",
    "- We use the softmax function to do this: "
   ]
  },
  {
   "cell_type": "code",
   "execution_count": 6,
   "id": "918fde95",
   "metadata": {},
   "outputs": [
    {
     "name": "stdout",
     "output_type": "stream",
     "text": [
      "tensor([[0.2296, 0.2749, 0.2589, 0.2366],\n",
      "        [0.1878, 0.2946, 0.2859, 0.2317],\n",
      "        [0.1509, 0.2439, 0.3638, 0.2414],\n",
      "        [0.1619, 0.2320, 0.2834, 0.3227]])\n"
     ]
    }
   ],
   "source": [
    "attn_weights = torch.softmax(attn_scores_all, dim=1)\n",
    "print(attn_weights)"
   ]
  },
  {
   "cell_type": "markdown",
   "id": "34920845",
   "metadata": {},
   "source": [
    "- Now every row in this matrix shows how much attention one word gives  to all the others. \n",
    "- For instance, row 2 tells us how much \"love\" attends to \"Cats\", \"cozy\" and \"window\". "
   ]
  },
  {
   "cell_type": "markdown",
   "id": "6c57c3c5",
   "metadata": {},
   "source": [
    "### Creating a Context Vector (Thi Final Mix)\n",
    "- Here's the cool part. \n",
    "- Each word's final understanding (called a context vector) is calculated by mixing all word vectors together, based on the attention weights. \n",
    "- If \"love\" pays 70% attention to \"Cats\" and %30 to \"cozy\", the context vector will be a blend of those two wod vectors. \n",
    "- Let's do it manually for \"love\" (row 2): "
   ]
  },
  {
   "cell_type": "code",
   "execution_count": 8,
   "id": "3efd3416",
   "metadata": {},
   "outputs": [
    {
     "name": "stdout",
     "output_type": "stream",
     "text": [
      "tensor([0.5453, 0.4367, 0.3080])\n"
     ]
    }
   ],
   "source": [
    "attn_weights_love = attn_weights[1]\n",
    "\n",
    "context_vec_love = torch.zeros_like(inputs[0])\n",
    "for i, x_i in enumerate(inputs):\n",
    "    context_vec_love += attn_weights_love[i] * x_i\n",
    "\n",
    "print(context_vec_love)"
   ]
  },
  {
   "cell_type": "code",
   "execution_count": 9,
   "id": "c6bea3bb",
   "metadata": {},
   "outputs": [
    {
     "name": "stdout",
     "output_type": "stream",
     "text": [
      "tensor([[0.5271, 0.4141, 0.3070],\n",
      "        [0.5453, 0.4367, 0.3080],\n",
      "        [0.5846, 0.4673, 0.2763],\n",
      "        [0.5978, 0.4074, 0.2807]])\n"
     ]
    }
   ],
   "source": [
    "# Or faster, do it for all words at once: \n",
    "context_vectors = attn_weights @ inputs\n",
    "print(context_vectors)"
   ]
  },
  {
   "cell_type": "markdown",
   "id": "9e0ae6d6",
   "metadata": {},
   "source": [
    "- Each row now holds a new version of the word that includes information from the whole sentence. "
   ]
  },
  {
   "cell_type": "markdown",
   "id": "b97fdfc6",
   "metadata": {},
   "source": [
    "## Why Does This Matter? \n",
    "- This mechanism helps LLMs: \n",
    "    - Understand context: It's not just \"what\" a word is but how it fits in the sentence. \n",
    "    - Be smarter with predictions: It can now decide that \"windows\" is important because \"cats love cozy windows\". \n",
    "    - Handle longer sentences: Attention lets the model scale and stay relevant, even with lots of words. "
   ]
  },
  {
   "cell_type": "markdown",
   "id": "511175b3",
   "metadata": {},
   "source": [
    "### TL;DR \n",
    "- The attention mechanism in LLMs: \n",
    "    1. Calculates how similar each word is to every other word. \n",
    "    2. Converts those scores into weights (softmax).\n",
    "    3. Build a new vector for each word using those weights (context vector). \n",
    "- This simple trick is the backbone of how modern Transformers work, letting them read, and generate human-like text. "
   ]
  }
 ],
 "metadata": {
  "kernelspec": {
   "display_name": "Python 3",
   "language": "python",
   "name": "python3"
  },
  "language_info": {
   "codemirror_mode": {
    "name": "ipython",
    "version": 3
   },
   "file_extension": ".py",
   "mimetype": "text/x-python",
   "name": "python",
   "nbconvert_exporter": "python",
   "pygments_lexer": "ipython3",
   "version": "3.11.9"
  }
 },
 "nbformat": 4,
 "nbformat_minor": 5
}
