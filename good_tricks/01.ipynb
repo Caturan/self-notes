{
 "cells": [
  {
   "cell_type": "code",
   "execution_count": null,
   "id": "121d700f",
   "metadata": {},
   "outputs": [],
   "source": [
    "pip freeeze > requirements.txt\n",
    "# It created requirements.txt file with in the project what use in the pip stages. "
   ]
  },
  {
   "cell_type": "markdown",
   "id": "67e3b509",
   "metadata": {},
   "source": []
  }
 ],
 "metadata": {
  "language_info": {
   "name": "python"
  }
 },
 "nbformat": 4,
 "nbformat_minor": 5
}
