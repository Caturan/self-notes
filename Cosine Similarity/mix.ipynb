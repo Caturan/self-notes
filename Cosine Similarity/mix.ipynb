{
 "cells": [
  {
   "cell_type": "markdown",
   "id": "1a3daf61",
   "metadata": {},
   "source": [
    "# Cosine Similarity "
   ]
  },
  {
   "cell_type": "markdown",
   "id": "312dd08b",
   "metadata": {},
   "source": [
    "## Code Part "
   ]
  },
  {
   "cell_type": "code",
   "execution_count": 27,
   "id": "5f9e0a6c",
   "metadata": {},
   "outputs": [],
   "source": [
    "sentence_1 = \"The weather looks quite sunny today.\"\n",
    "sentence_2 = \"The weather is always sunny these days.\" \n",
    "sentence_3 = \"The weather wasn't very sunny yesterday.\""
   ]
  },
  {
   "cell_type": "markdown",
   "id": "7095ec51",
   "metadata": {},
   "source": [
    "- First, we need to create a vector for each sentence and create word list in the three sentences. \n",
    "- To do this, creating a simple function that will tokenize the sentences by stripping them of any punctuation. "
   ]
  },
  {
   "cell_type": "code",
   "execution_count": 29,
   "id": "487986a2",
   "metadata": {},
   "outputs": [
    {
     "name": "stdout",
     "output_type": "stream",
     "text": [
      "['sunny', 'these', 'looks', 'yesterday', 'wasnt', 'weather', 'is', 'always', 'quite', 'the', 'days', 'very', 'today']\n"
     ]
    }
   ],
   "source": [
    "import re\n",
    "import string\n",
    "\n",
    "def tokenizer(text):\n",
    "    # Remove punctuation\n",
    "    text_nopunct = \"\".join([char for char in text if char not in string.punctuation])\n",
    "\n",
    "    # Convert to lowercase to treat words like 'The' and 'the' as the same\n",
    "    text_lower = text_nopunct.lower()\n",
    "\n",
    "    # Split the text on one or more whitespace characters\n",
    "    tokens = re.split(r'\\s+', text_lower.strip())\n",
    "    \n",
    "    # Filter out any empty strings that might result from splitting\n",
    "    tokens = [token for token in tokens if token]\n",
    "    \n",
    "    return tokens\n",
    "\n",
    "word_list = list(set(tokenizer(sentence_1) + \n",
    "                     tokenizer(sentence_2) + \n",
    "                     tokenizer(sentence_3)))\n",
    "\n",
    "print(word_list)"
   ]
  },
  {
   "cell_type": "markdown",
   "id": "d33b3db1",
   "metadata": {},
   "source": [
    "- In the next step, create a function that will assign a value of 1 to the vector of each sentence if it contains the words in the word list, and 0 otherwise. "
   ]
  },
  {
   "cell_type": "code",
   "execution_count": 30,
   "id": "661622a8",
   "metadata": {},
   "outputs": [
    {
     "name": "stdout",
     "output_type": "stream",
     "text": [
      "vector_1: [1 0 1 0 0 1 0 0 1 1 0 0 1]\n",
      "vector_2: [1 1 0 0 0 1 1 1 0 1 1 0 0]\n",
      "vector_3: [1 0 0 1 1 1 0 0 0 1 0 1 0]\n"
     ]
    }
   ],
   "source": [
    "import numpy as np \n",
    "vector_1 = [0]*len(word_list)\n",
    "vector_2 = [0]*len(word_list)\n",
    "vector_3 = [0]*len(word_list)\n",
    "\n",
    "def vectors(word_list, sentence, vector):\n",
    "    for j in tokenizer(sentence):\n",
    "        for i in range(0, len(word_list)):\n",
    "            if j == word_list[i]:\n",
    "                vector[i] = 1\n",
    "    vector = np.array(vector)\n",
    "    return vector\n",
    "\n",
    "vector_1 = vectors(word_list, sentence_1, vector_1)\n",
    "vector_2 = vectors(word_list, sentence_2, vector_2)\n",
    "vector_3 = vectors(word_list, sentence_3, vector_3)\n",
    "\n",
    "print(\"vector_1:\", vector_1)\n",
    "print(\"vector_2:\", vector_2)\n",
    "print(\"vector_3:\", vector_3)"
   ]
  },
  {
   "attachments": {
    "1_hhgmobNsZ8AoN_XSn4ptPw.webp": {
     "image/webp": "[encoded data removed]"
    }
   },
   "cell_type": "markdown",
   "id": "cfe5f56c",
   "metadata": {},
   "source": [
    "- ![1_hhgmobNsZ8AoN_XSn4ptPw.webp](attachment:1_hhgmobNsZ8AoN_XSn4ptPw.webp)"
   ]
  },
  {
   "cell_type": "code",
   "execution_count": 38,
   "id": "b6de29d4",
   "metadata": {},
   "outputs": [
    {
     "name": "stdout",
     "output_type": "stream",
     "text": [
      "Cosine similarity between sentence_1 and sentence_2:  0.4629100498862757\n",
      "Cosine similarity between sentence_1 and sentence_3 : 0.5000000000000001\n",
      "Cosine similarity between sentence_2 and sentence_3 : 0.4629100498862757\n"
     ]
    }
   ],
   "source": [
    "def cos_sim(vector1, vector2):\n",
    "    dot_product = np.dot(vector1, vector2)\n",
    "    norm_1 = np.linalg.norm(vector1)\n",
    "    norm_2 = np.linalg.norm(vector2)\n",
    "    return dot_product / (norm_1 * norm_2)\n",
    "\n",
    "print(\"Cosine similarity between sentence_1 and sentence_2: \", cos_sim(vector_1, vector_2))\n",
    "print(\"Cosine similarity between sentence_1 and sentence_3 :\", cos_sim(vector_1, vector_3))\n",
    "print(\"Cosine similarity between sentence_2 and sentence_3 :\", cos_sim(vector_2, vector_3))"
   ]
  },
  {
   "cell_type": "markdown",
   "id": "039e244e",
   "metadata": {},
   "source": [
    "- Let's make with Scikit-Learn:"
   ]
  },
  {
   "cell_type": "code",
   "execution_count": 42,
   "id": "3083d773",
   "metadata": {},
   "outputs": [],
   "source": [
    "documents = [\n",
    "    \"The weather looks quite sunny today.\",\n",
    "    \"The weather is always sunny these days.\",\n",
    "    \"The weather wasn't very sunny yesterday.\"\n",
    "]"
   ]
  },
  {
   "cell_type": "code",
   "execution_count": 43,
   "id": "9bf03bae",
   "metadata": {},
   "outputs": [
    {
     "data": {
      "text/html": [
       "<div>\n",
       "<style scoped>\n",
       "    .dataframe tbody tr th:only-of-type {\n",
       "        vertical-align: middle;\n",
       "    }\n",
       "\n",
       "    .dataframe tbody tr th {\n",
       "        vertical-align: top;\n",
       "    }\n",
       "\n",
       "    .dataframe thead th {\n",
       "        text-align: right;\n",
       "    }\n",
       "</style>\n",
       "<table border=\"1\" class=\"dataframe\">\n",
       "  <thead>\n",
       "    <tr style=\"text-align: right;\">\n",
       "      <th></th>\n",
       "      <th>always</th>\n",
       "      <th>days</th>\n",
       "      <th>is</th>\n",
       "      <th>looks</th>\n",
       "      <th>quite</th>\n",
       "      <th>sunny</th>\n",
       "      <th>the</th>\n",
       "      <th>these</th>\n",
       "      <th>today</th>\n",
       "      <th>very</th>\n",
       "      <th>wasn</th>\n",
       "      <th>weather</th>\n",
       "      <th>yesterday</th>\n",
       "    </tr>\n",
       "  </thead>\n",
       "  <tbody>\n",
       "    <tr>\n",
       "      <th>vector_1</th>\n",
       "      <td>0</td>\n",
       "      <td>0</td>\n",
       "      <td>0</td>\n",
       "      <td>1</td>\n",
       "      <td>1</td>\n",
       "      <td>1</td>\n",
       "      <td>1</td>\n",
       "      <td>0</td>\n",
       "      <td>1</td>\n",
       "      <td>0</td>\n",
       "      <td>0</td>\n",
       "      <td>1</td>\n",
       "      <td>0</td>\n",
       "    </tr>\n",
       "    <tr>\n",
       "      <th>vector_2</th>\n",
       "      <td>1</td>\n",
       "      <td>1</td>\n",
       "      <td>1</td>\n",
       "      <td>0</td>\n",
       "      <td>0</td>\n",
       "      <td>1</td>\n",
       "      <td>1</td>\n",
       "      <td>1</td>\n",
       "      <td>0</td>\n",
       "      <td>0</td>\n",
       "      <td>0</td>\n",
       "      <td>1</td>\n",
       "      <td>0</td>\n",
       "    </tr>\n",
       "    <tr>\n",
       "      <th>vector_3</th>\n",
       "      <td>0</td>\n",
       "      <td>0</td>\n",
       "      <td>0</td>\n",
       "      <td>0</td>\n",
       "      <td>0</td>\n",
       "      <td>1</td>\n",
       "      <td>1</td>\n",
       "      <td>0</td>\n",
       "      <td>0</td>\n",
       "      <td>1</td>\n",
       "      <td>1</td>\n",
       "      <td>1</td>\n",
       "      <td>1</td>\n",
       "    </tr>\n",
       "  </tbody>\n",
       "</table>\n",
       "</div>"
      ],
      "text/plain": [
       "          always  days  is  looks  quite  sunny  the  these  today  very  \\\n",
       "vector_1       0     0   0      1      1      1    1      0      1     0   \n",
       "vector_2       1     1   1      0      0      1    1      1      0     0   \n",
       "vector_3       0     0   0      0      0      1    1      0      0     1   \n",
       "\n",
       "          wasn  weather  yesterday  \n",
       "vector_1     0        1          0  \n",
       "vector_2     0        1          0  \n",
       "vector_3     1        1          1  "
      ]
     },
     "execution_count": 43,
     "metadata": {},
     "output_type": "execute_result"
    }
   ],
   "source": [
    "from sklearn.feature_extraction.text import CountVectorizer \n",
    "import pandas as pd \n",
    "\n",
    "count_vectorizer = CountVectorizer()\n",
    "sparse_matrix = count_vectorizer.fit_transform(documents)\n",
    "doc_term_matrix = sparse_matrix.todense()\n",
    "df = pd.DataFrame(doc_term_matrix,\n",
    "                  columns=count_vectorizer.get_feature_names_out(),\n",
    "                  index=['vector_1', 'vector_2', 'vector_3'])\n",
    "\n",
    "df"
   ]
  },
  {
   "cell_type": "code",
   "execution_count": 44,
   "id": "e6661977",
   "metadata": {},
   "outputs": [
    {
     "data": {
      "text/plain": [
       "array([[0.        , 0.46291005, 0.5       ],\n",
       "       [0.46291005, 0.        , 0.46291005],\n",
       "       [0.5       , 0.46291005, 0.        ]])"
      ]
     },
     "execution_count": 44,
     "metadata": {},
     "output_type": "execute_result"
    }
   ],
   "source": [
    "from sklearn.metrics.pairwise import cosine_similarity\n",
    "cosine = cosine_similarity(df, df)\n",
    "np.fill_diagonal(cosine, 0)\n",
    "cosine"
   ]
  }
 ],
 "metadata": {
  "kernelspec": {
   "display_name": "Python 3",
   "language": "python",
   "name": "python3"
  },
  "language_info": {
   "codemirror_mode": {
    "name": "ipython",
    "version": 3
   },
   "file_extension": ".py",
   "mimetype": "text/x-python",
   "name": "python",
   "nbconvert_exporter": "python",
   "pygments_lexer": "ipython3",
   "version": "3.11.9"
  }
 },
 "nbformat": 4,
 "nbformat_minor": 5
}
