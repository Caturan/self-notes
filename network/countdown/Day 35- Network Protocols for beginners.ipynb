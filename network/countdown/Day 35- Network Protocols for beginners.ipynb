{
 "cells": [
  {
   "cell_type": "markdown",
   "id": "26381459",
   "metadata": {},
   "source": [
    "# Day 35- Network Protocols for beginners: SSH, RDP, FTP, SFTP, HTTP/HTTPS, SSL/TLS\n",
    "- When we use the internet or connect computers, different protocols, rules for communication which make everything work smoothly. \n",
    "- Protocols are like languages that computers agree upon so they can talk to each other properly. "
   ]
  },
  {
   "cell_type": "markdown",
   "id": "b3fac3d7",
   "metadata": {},
   "source": [
    "## SSH (Secure Shell)\n",
    "- A protocol that allows secure remote login to another computer. It encrypts the communication so no one can spy on it. \n",
    "- System administrators use SSH to log into Linux servers and run commands securely.  "
   ]
  },
  {
   "cell_type": "markdown",
   "id": "73e031ab",
   "metadata": {},
   "source": [
    "- ssh- tells the system we want to use Secure Shell \n",
    "- username- the login name on the remote computer. \n",
    "- @- seperates username from the server adress. \n",
    "- server-ip- the IP address or domain name of the remote machine."
   ]
  },
  {
   "cell_type": "markdown",
   "id": "3fb358e0",
   "metadata": {},
   "source": [
    "## RDP (Remote Desktop Protocol)\n",
    "- A Microsoft protocol that lets we control another computer as if we are sitting in front of it. \n",
    "- We see the screen of the remote machine on our computer, and we can use our mouse and keyboard. \n",
    "- IT teams use RDP to fix issues on employee computers without leaving their desk.  "
   ]
  },
  {
   "cell_type": "markdown",
   "id": "22ccf118",
   "metadata": {},
   "source": [
    "- On Windows, open Run win + R and type \n",
    "- mstsc\n",
    "- mstsc- stands for Microsoft Terminal Services Client. \n",
    "- When we run it, it opens the Remote Desktop Connection window. \n",
    "- There, we enter the remote computer's IP or hostname"
   ]
  },
  {
   "cell_type": "markdown",
   "id": "e6db67c6",
   "metadata": {},
   "source": [
    "## FTP (File Transfer Protocol)\n",
    "- An old protocol for transferring files between computers. \n",
    "- FTP does not encrypt data, meaning usernames, passwords, and files can be intercepted. \n",
    "- Uploading files to a web server in older systems. "
   ]
  },
  {
   "cell_type": "markdown",
   "id": "53b26ed3",
   "metadata": {},
   "source": [
    "- On Windows/Linux \n",
    "- ftp server-ip \n",
    "- ftp- starts the File Transfer Protocol client\n",
    "- server-ip- the IP address or domain of the FTP server. "
   ]
  },
  {
   "cell_type": "markdown",
   "id": "7400af51",
   "metadata": {},
   "source": [
    "- It connects to the FTP server. After that, it will ask for a username abd password. \n",
    "- Once logged in, we can upload/dowload files with commands like ls-list files, get file.txt-download file, put file.txt-upload file. "
   ]
  },
  {
   "cell_type": "markdown",
   "id": "2523b488",
   "metadata": {},
   "source": [
    "## SFTP (SSH File Transfer Protocol)\n",
    "- A secure version of FTP that works over SSH. \n",
    "- It encrypts our files and login details while transferring. \n",
    "- Developers use SFTP to upload website files securely. "
   ]
  },
  {
   "cell_type": "markdown",
   "id": "1d171259",
   "metadata": {},
   "source": [
    "- On Linux/Mac \n",
    "- sftp username@server-ip \n",
    "- sftp- starts Secure File Transfer Protocol \n",
    "- username@server-ip- Logs in securely (over SSH).\n",
    "- After entering password, we can: \n",
    "    - ls- list files. \n",
    "    - get report.pdf- dowload a file. \n",
    "    - put project.zip- upload a file "
   ]
  },
  {
   "cell_type": "markdown",
   "id": "4a92e67f",
   "metadata": {},
   "source": [
    "## HTTP (Hypertext Transfer Protocol)\n",
    "- The foundation of the web, it's how our browser talks to websites. \n",
    "- HTTP is not secure. Data (like password) can be intercepted. \n",
    "- Websites starting with http:// (avoid entering sensitive data here). "
   ]
  },
  {
   "cell_type": "markdown",
   "id": "70b4938b",
   "metadata": {},
   "source": [
    "## HTTPS (Hypertext Transfer Protocol Secure)\n",
    "- A secure verison of HTTPS. \n",
    "- It uses encryption so data cannot be easily stolen. \n",
    "- Websites with a lock symbol and https:// can be recognized as a secure site like your bank, Gmail, Facebook all use HTTPS to protect our data. "
   ]
  },
  {
   "cell_type": "markdown",
   "id": "1a0f35ae",
   "metadata": {},
   "source": [
    "## SSL/TLS (Secure Sockets Layer / Transport Layer Security)\n",
    "- These are the techologies behind HTTPS. They create a secure \"tunnel\" between our browser and the website. \n",
    "- When we log into an online store, SSL/TLS ensures our credit card details are safe. "
   ]
  },
  {
   "cell_type": "markdown",
   "id": "3096f066",
   "metadata": {},
   "source": [
    "- To Check Certificates on Linux \n",
    "- openssl s_client -connect www.google.com:443 \n",
    "- It shows the SSL/TLS certificate details of Google. \n",
    "- It shows certificate details like: \n",
    "    - Issuer (who gave the certificate). \n",
    "    - Validity Dates (start & expiry). \n",
    "    - Encryption type (like TLS 1.3). "
   ]
  },
  {
   "cell_type": "markdown",
   "id": "629658b5",
   "metadata": {},
   "source": [
    "## Why beginners in cybersecurity should know these protocols? \n",
    "- They teach us how computers communicate securely. \n",
    "- Understanding them helps us recognize security risks (example: -FTP vs SFTP, HTTP vs HTTPS). \n",
    "- As a SOC analyst or cybersecurity professional, we will monitor network traffic and spot when unsafe are being used. "
   ]
  },
  {
   "cell_type": "markdown",
   "id": "b3931555",
   "metadata": {},
   "source": [
    "## To check protocols on our computer \n",
    "- On windows \n",
    "- netstat -an \n",
    "- This shows active connections and which protocol (TCP/UDP, HTTP, etc.) is being. \n",
    "- On Linux\n",
    "- ss -tulnp \n",
    "- This lists the running services and their ports (example:-, port 22 = SSH, port 3389 = RDP, port 80 = HTTP, port 443 = HTTPS)"
   ]
  }
 ],
 "metadata": {
  "language_info": {
   "name": "python"
  }
 },
 "nbformat": 4,
 "nbformat_minor": 5
}
