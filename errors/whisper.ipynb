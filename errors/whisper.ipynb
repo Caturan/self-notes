{
 "cells": [
  {
   "cell_type": "markdown",
   "id": "002a8e3b",
   "metadata": {},
   "source": [
    "# Errors"
   ]
  },
  {
   "cell_type": "markdown",
   "id": "ccc08908",
   "metadata": {},
   "source": [
    "## error 1"
   ]
  },
  {
   "cell_type": "code",
   "execution_count": null,
   "id": "346105bc",
   "metadata": {
    "vscode": {
     "languageId": "plaintext"
    }
   },
   "outputs": [],
   "source": [
    "[start of libtorchcodec loading traceback]\n",
    "FFmpeg version 7: libavutil.so.59: cannot open shared object file: No such file or directory\n",
    "FFmpeg version 6: libavutil.so.58: cannot open shared object file: No such file or directory\n",
    "FFmpeg version 5: libavutil.so.57: cannot open shared object file: No such file or directory\n",
    "FFmpeg version 4: libavutil.so.56: cannot open shared object file: No such file or directory\n",
    "[end of libtorchcodec loading traceback]."
   ]
  },
  {
   "cell_type": "markdown",
   "id": "cbbbbcc1",
   "metadata": {},
   "source": [
    "#### solution"
   ]
  },
  {
   "cell_type": "markdown",
   "id": "372e4260",
   "metadata": {},
   "source": [
    "- Install FFmpeg system dependencies\n",
    "    - apt-get update && apt-get install -y ffmpeg\n",
    "\n",
    "- Install torchaudio (more stable than torchcodec)\n",
    "    - pip install torchaudio\n",
    "\n",
    "- Remove torchcodec to avoid conflicts\n",
    "    - pip uninstall torchcodec -y"
   ]
  },
  {
   "cell_type": "markdown",
   "id": "a0b6a49a",
   "metadata": {},
   "source": [
    "## error 2 "
   ]
  },
  {
   "cell_type": "code",
   "execution_count": null,
   "id": "ef4891f4",
   "metadata": {
    "vscode": {
     "languageId": "plaintext"
    }
   },
   "outputs": [],
   "source": [
    "TypeError: WhisperForConditionalGeneration.forward() got an unexpected keyword argument 'input_ids'\n",
    "  0%|                                                                                                                                                            | 0/7 [00:03<?, ?it/s]"
   ]
  },
  {
   "cell_type": "markdown",
   "id": "7a4e107e",
   "metadata": {},
   "source": [
    "- The error is because our data collator is creating input_ids instead of input_features for the Whisper model\n",
    "- The Whisper model expects:\n",
    "    - input_features: Log-mel spectrograms (what we now provide)\n",
    "    - labels: Tokenized text (what we already had)\n",
    "- This should resolve the unexpected keyword argument 'input_ids' error! 🎯"
   ]
  },
  {
   "cell_type": "markdown",
   "id": "2249fe64",
   "metadata": {},
   "source": [
    "## error 3 "
   ]
  },
  {
   "cell_type": "code",
   "execution_count": null,
   "id": "4ae6b7ff",
   "metadata": {
    "vscode": {
     "languageId": "plaintext"
    }
   },
   "outputs": [],
   "source": [
    "TypeError: WhisperForConditionalGeneration.forward() got an unexpected keyword argument 'input_ids'"
   ]
  },
  {
   "cell_type": "markdown",
   "id": "6c38956a",
   "metadata": {},
   "source": [
    "- Remove task_type from LoraConfig, which helps me resolve this issue. You can find a solution at: https://discuss.huggingface.co/t/unexpected-keywork-argument/91356"
   ]
  },
  {
   "cell_type": "markdown",
   "id": "d06b4c4e",
   "metadata": {},
   "source": [
    "### Helped links: \n",
    "- https://github.com/huggingface/peft/issues/137\n",
    "- https://github.com/huggingface/peft/issues/1988\n",
    "- https://github.com/huggingface/peft/issues/1523 \n",
    "- https://github.com/theislab/scvelo/issues/1109"
   ]
  }
 ],
 "metadata": {
  "language_info": {
   "name": "python"
  }
 },
 "nbformat": 4,
 "nbformat_minor": 5
}
