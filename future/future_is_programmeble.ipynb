{
 "cells": [
  {
   "cell_type": "markdown",
   "id": "5d0db48d",
   "metadata": {},
   "source": [
    "# The future is programmable: How generative computing could reinvent software"
   ]
  },
  {
   "cell_type": "markdown",
   "id": "231d7a97",
   "metadata": {},
   "source": [
    "- Somewhere between the chaos of prompting and the aspirations of automation, a new concept took shape. \n",
    "- It might redefine not only artifical intelligence but software itself."
   ]
  },
  {
   "cell_type": "markdown",
   "id": "2aa4ccba",
   "metadata": {},
   "source": []
  }
 ],
 "metadata": {
  "language_info": {
   "name": "python"
  }
 },
 "nbformat": 4,
 "nbformat_minor": 5
}
