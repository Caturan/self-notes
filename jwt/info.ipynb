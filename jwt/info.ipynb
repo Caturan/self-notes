{
 "cells": [
  {
   "cell_type": "markdown",
   "id": "036d056c",
   "metadata": {},
   "source": [
    "# JSON Web Token (JWT) "
   ]
  },
  {
   "cell_type": "markdown",
   "id": "442306b4",
   "metadata": {},
   "source": [
    "- JSON Web Tokens (JWT) are an open standard, which is defined in JSON Web Token (JWT). \n",
    "- They securely represent claims between two parties. \n",
    "- Claims can be related to any busisness process but are typically used to represent an identity and its associations. \n",
    "- For example, a user whose identity the JWT represents belongs to an administrator role or group. \n",
    "- The claims in a JWT are encoded as a JSON object and care normally digitally signed with a Message Authentication Code (MAC).\n",
    "- The most common scenario for using a JWT is authnetication. When the user is logged in, each subsequent requrest includes the JWT, which allows the user to access services that are permitted by that token. "
   ]
  },
  {
   "cell_type": "markdown",
   "id": "7d35fd0a",
   "metadata": {},
   "source": [
    "## Why use JWT? \n",
    "Advantages of using JWTs include the following:\n",
    "- They are lightweight and easy to use by client applications: for example, mobile applications.\n",
    "- They are self-contained, which means that the Liberty JVM server can consume the token directly and use a claim from the token as the identity for running the request.\n",
    "- They can be symmetrically signed by a shared secret by using the HMAC algorithm, or asymmetrically by using a private key.\n",
    "- They have a built-in expiry mechanism.\n",
    "- They can be extended to contain custom claims.\n",
    "- They are widely adopted by different Single Sign-On solutions and well-known standards"
   ]
  },
  {
   "cell_type": "markdown",
   "id": "8ca8668e",
   "metadata": {},
   "source": [
    "https://www.ibm.com/docs/en/cics-ts/6.x?topic=cics-json-web-token-jwt"
   ]
  }
 ],
 "metadata": {
  "language_info": {
   "name": "python"
  }
 },
 "nbformat": 4,
 "nbformat_minor": 5
}
